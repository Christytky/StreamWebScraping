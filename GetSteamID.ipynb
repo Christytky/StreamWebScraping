{
  "cells": [
    {
      "cell_type": "markdown",
      "metadata": {
        "id": "1T3T_5ZSOCcD"
      },
      "source": [
        "## Generate SteamID"
      ]
    },
    {
      "cell_type": "code",
      "execution_count": null,
      "metadata": {
        "id": "-izdo8HBOCcF"
      },
      "outputs": [],
      "source": [
        "# find steamIDs\n",
        "def steamid_to_64bit(steamid):\n",
        "    steam64id = 76561197960265728\n",
        "    \n",
        "    id_split = steamid.split(\":\")\n",
        "    steam64id += int(id_split[2]) * 2\n",
        "    if id_split[1] == \"1\":\n",
        "        steam64id += 1\n",
        "    return steam64id\n",
        "\n",
        "# simple format of steam id: STEAM_1:1:66138017 --> we generate the last 8 digits consecutively\n",
        "Id_list = []\n",
        "for num in range(20000000, 20000100):\n",
        "    steam_Id = \"STEAM_1:1:\" + str(num)\n",
        "    Id_list.append(steam_Id)\n",
        "\n",
        "# generate 64-bit steamID list and csv file \n",
        "steamId_64bit = []\n",
        "with open(\"steamid.csv\", \"w\") as f:\n",
        "    for i in Id_list:\n",
        "        steamId_64bit.append(str(steamid_to_64bit(i)))\n",
        "        steamId = str(steamid_to_64bit(i)) + \",\\n\"\n",
        "        f.write(steamId)"
      ]
    },
    {
      "cell_type": "markdown",
      "metadata": {
        "id": "9PKAiEnsOCcG"
      },
      "source": [
        "# Input SteamIDs and get user country from GetPlayerSummaries"
      ]
    },
    {
      "cell_type": "code",
      "execution_count": null,
      "metadata": {
        "id": "5KkWwPTzOCcG"
      },
      "outputs": [],
      "source": [
        "import numpy as np\n",
        "import json\n",
        "import requests"
      ]
    },
    {
      "cell_type": "code",
      "execution_count": null,
      "metadata": {
        "id": "JUSF-35IOCcG"
      },
      "outputs": [],
      "source": [
        "# Step 1: open steam id from csv file, multi_id is a list to store the ids\n",
        "with open(\"steamid.csv\", \"r\") as f:\n",
        "    multi_id = f.read().split(\",\")\n",
        "\n",
        "\n",
        "id_pub = []  # Step 3: ids in multi_id may not be available, we need to filter out valid ids and put into id_pub list\n",
        "def GetPlayerSummaries(multi_id):\n",
        "    with open(\"id_location.csv\", \"w\") as f:   # Step 4: we want to save user locations in csv file\n",
        "    \n",
        "        # Step 5:\n",
        "        # url format: https://api.steampowered.com/ISteamUser/GetPlayerSummaries/v2/?key=<API key>&format=json&steamids=<steamID_1>,<steamID_2>,<steamID_3>\n",
        "        # that means we need to add ',' between the ids\n",
        "        steamId = \"\"\n",
        "        for i in multi_id:\n",
        "            if steamId != \"\":\n",
        "                steamId = steamId + \",\" + i\n",
        "            else:\n",
        "                steamId = i\n",
        "        \n",
        "        params = {\n",
        "            \"steamids\" : steamId\n",
        "        }\n",
        "    \n",
        "        url = requests.get(\"https://api.steampowered.com/ISteamUser/GetPlayerSummaries/v2/?key=81C83AF57A45C03A06CA67C939151C18&format=json\", headers=headers, params=params)    \n",
        "        d = json.loads(url.text)\n",
        "        \n",
        "        # Step 6:\n",
        "        # if the id from multi_id is valid:\n",
        "        # 1. get country information    2. add the id and country info into id_pub list for record/ later use --- format: id,country for the cooresponding id\n",
        "        for i in range(len(multi_id) - 1):\n",
        "                        \n",
        "            try:             \n",
        "                if d['response']['players'][i]['loccountrycode']:\n",
        "                    x = multi_id[i] + \",\" + d['response']['players'][i]['loccountrycode'] + \"\\n\"\n",
        "                    id_pub.append(x)                                      \n",
        "            except:\n",
        "                d['response']['players'][i]['loccountrycode'] = np.nan      \n",
        "        \n",
        "        # Step 7: Finally, write id_pub list into id_location.csv\n",
        "        for i in range(len(id_pub)):\n",
        "            f.write(id_pub[i])\n",
        "\n",
        "# Step 2: We get 100 ids from multi_id list each time, and input to 'GetPlayerSummaries' function. We set a for loop and input the ids for 500 times.\n",
        "for i in range(0, 500):\n",
        "    GetPlayerSummaries(multi_id[(0+100*i):(100+100*i)])      ## input --- multi_id[0:100], multi_id[100:200], multi_id[200:300], ...\n",
        "# --> after that, we can get total 500*100 ids"
      ]
    }
  ],
  "metadata": {
    "kernelspec": {
      "display_name": "Python 3",
      "language": "python",
      "name": "python3"
    },
    "language_info": {
      "codemirror_mode": {
        "name": "ipython",
        "version": 3
      },
      "file_extension": ".py",
      "mimetype": "text/x-python",
      "name": "python",
      "nbconvert_exporter": "python",
      "pygments_lexer": "ipython3",
      "version": "3.8.5"
    },
    "colab": {
      "provenance": []
    }
  },
  "nbformat": 4,
  "nbformat_minor": 0
}